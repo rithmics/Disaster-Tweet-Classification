{
 "cells": [
  {
   "cell_type": "code",
   "execution_count": 1,
   "metadata": {},
   "outputs": [],
   "source": [
    "import re \n",
    "import numpy as np\n",
    "import pandas as pd \n",
    "import matplotlib.pyplot as plt\n",
    "import seaborn as sns; sns.set_style('whitegrid')\n",
    "\n",
    "from nltk.stem import WordNetLemmatizer\n",
    "\n",
    "from sklearn.feature_extraction.text import TfidfVectorizer\n",
    "from sklearn.pipeline import Pipeline\n",
    "from sklearn.model_selection import train_test_split, RandomizedSearchCV\n",
    "from sklearn.naive_bayes import BernoulliNB, GaussianNB, MultinomialNB\n",
    "from sklearn.base import BaseEstimator, TransformerMixin"
   ]
  },
  {
   "cell_type": "code",
   "execution_count": 2,
   "metadata": {},
   "outputs": [],
   "source": [
    "# Load data\n",
    "train_data = pd.read_csv('train.csv')\n",
    "test_data = pd.read_csv('test.csv')"
   ]
  },
  {
   "cell_type": "code",
   "execution_count": 3,
   "metadata": {},
   "outputs": [],
   "source": [
    "# Separate targets\n",
    "X_train = train_data.iloc[:, :-1]\n",
    "y_train = train_data.iloc[:, -1]\n",
    "X_test = test_data"
   ]
  },
  {
   "cell_type": "code",
   "execution_count": 4,
   "metadata": {},
   "outputs": [
    {
     "data": {
      "text/plain": [
       "0    4342\n",
       "1    3271\n",
       "Name: target, dtype: int64"
      ]
     },
     "execution_count": 4,
     "metadata": {},
     "output_type": "execute_result"
    }
   ],
   "source": [
    "y_train.value_counts()"
   ]
  },
  {
   "cell_type": "code",
   "execution_count": 5,
   "metadata": {},
   "outputs": [
    {
     "data": {
      "text/plain": [
       "0    0.57034\n",
       "1    0.42966\n",
       "Name: target, dtype: float64"
      ]
     },
     "execution_count": 5,
     "metadata": {},
     "output_type": "execute_result"
    }
   ],
   "source": [
    "y_train.value_counts() / len(y_train)"
   ]
  },
  {
   "cell_type": "code",
   "execution_count": 6,
   "metadata": {},
   "outputs": [],
   "source": [
    "# import re\n",
    "\n",
    "# def get_regex_to_preserve(self):\n",
    "#     r_str = []\n",
    "#     if self.preserve_emoticons:\n",
    "#         r_str.append(r'(?:[:=;][oO\\-]?[D\\)\\]\\(\\]/\\\\OpP])')\n",
    "#     if self.preserve_mentions:\n",
    "#         r_str.append(r'(?:@[\\w_]+)')\n",
    "#     if self.preserve_hashtags:\n",
    "#         r_str.append(r\"(?:\\#+[\\w_]+[\\w\\'_\\-]*[\\w_]+)\")\n",
    "#     if self.preserve_URLs:\n",
    "#         r_str.append(r'http[s]?://(?:[a-z]|[0-9]|[$-_@.&+]|[!*\\(\\),]|(?:%[0-9a-f][0-9a-f]))+')\n",
    "#     if self.preserve_dashes_and_single_quotes:\n",
    "#         r_str.append(r\"(?:[a-z][a-z'\\-_]+[a-z])\")\n",
    "\n",
    "# def transform(self, X, y=None):\n",
    "    \n",
    "    \n",
    "# regex_str = [\n",
    "#     r'(?:[:=;][oO\\-]?[D\\)\\]\\(\\]/\\\\OpP])', # emoticons\n",
    "#     r'<[^>]+>', # HTML tags\n",
    "#     r'(?:@[\\w_]+)', # @-mentions\n",
    "#     r\"(?:\\#+[\\w_]+[\\w\\'_\\-]*[\\w_]+)\", # hash-tags\n",
    "#     r'http[s]?://(?:[a-z]|[0-9]|[$-_@.&+]|[!*\\(\\),]|(?:%[0-9a-f][0-9a-f]))+', # URLs\n",
    "#     r'(?:(?:\\d+,?)+(?:\\.?\\d+)?)', # numbers\n",
    "#     r\"(?:[a-z][a-z'\\-_]+[a-z])\", # words with - and '\n",
    "#     r'(?:[\\w_]+)', # other words\n",
    "#     r'(?:\\S)' # anything else\n",
    "# ]\n",
    "    \n",
    "# tokens_re = re.compile(r'('+'|'.join(regex_str)+')', re.VERBOSE | re.IGNORECASE)\n",
    "# emoticon_re = re.compile(r'^'+emoticons_str+'$', re.VERBOSE | re.IGNORECASE)\n",
    " \n",
    "# def tokenize(s):\n",
    "#     return tokens_re.findall(s)\n",
    " \n",
    "# def preprocess(s, lowercase=False):\n",
    "#     tokens = tokenize(s)\n",
    "#     if lowercase:\n",
    "#         tokens = [token if emoticon_re.search(token) else token.lower() for token in tokens]\n",
    "#     return tokens\n",
    " \n",
    "# tweet = \"RT @marcobonzanini: just an example! :D http://example.com #NLP\"\n",
    "# print(preprocess(tweet))"
   ]
  },
  {
   "cell_type": "code",
   "execution_count": 7,
   "metadata": {},
   "outputs": [],
   "source": [
    "from nltk.stem import PorterStemmer\n",
    "from nltk.corpus import stopwords\n",
    "from sklearn.feature_extraction.text import ENGLISH_STOP_WORDS\n",
    "\n",
    "class TweetPreprocessor(BaseEstimator, TransformerMixin):\n",
    "    def __init__(self, remove_mentions=True, remove_urls=True, \n",
    "                 remove_special=True, remove_extra_whitespace=True, \n",
    "                 stem_text=False, remove_stopwords=False):\n",
    "        self.remove_mentions = remove_mentions\n",
    "        self.remove_urls = remove_urls\n",
    "        self.remove_special = remove_special\n",
    "        self.remove_extra_whitespace = remove_extra_whitespace\n",
    "        self.stem_text = stem_text\n",
    "        self.remove_stopwords = remove_stopwords\n",
    "        self.stoplist = set(stopwords.words('english') + list(ENGLISH_STOP_WORDS))\n",
    "        self.stemmer = PorterStemmer()\n",
    "        \n",
    "    def clean_tweet(self, tweet):\n",
    "        tweet = tweet.lower()\n",
    "        if self.remove_mentions:\n",
    "            tweet = re.sub(r'@\\w+', '', tweet)\n",
    "        if self.remove_urls:\n",
    "            tweet = re.sub(r'http.?://[^\\s]+[\\s]?', '', tweet)\n",
    "        if self.remove_special:\n",
    "            tweet = re.sub('[^a-zA-Z\\s]', ' ', tweet)\n",
    "        if self.remove_extra_whitespace:\n",
    "            tweet = re.sub(\" +\", ' ', tweet)\n",
    "            tweet = tweet.lstrip()\n",
    "            tweet = tweet.rstrip()\n",
    "        return tweet\n",
    "\n",
    "    def get_tokens(self, tweet):\n",
    "        tweet = tweet.split()\n",
    "        if self.stem_text and self.remove_stopwords:\n",
    "            return [self.stemmer.stem(word) for word in tweet if word not in self.stoplist]\n",
    "        elif self.remove_stopwords and not self.stem_text:\n",
    "            return [word for word in tweet if word not in self.stoplist]\n",
    "        elif self.stem_text and not self.remove_stopwords:\n",
    "            return [self.stemmer.stem(word) for word in tweet]\n",
    "        else:\n",
    "            return tweet\n",
    "    \n",
    "    def stem(self, tweet):\n",
    "        tweet = ' '.join(self.stemmer.stem(word) for word in tweet.split())\n",
    "        return tweet\n",
    "    \n",
    "    def fit(self, X, y=None):\n",
    "        return self\n",
    "        \n",
    "    def transform(self, X, y=None):\n",
    "        X = X.drop(['id', 'keyword', 'location'], axis=1)\n",
    "        X['cleaned_text'] = X['text'].apply(self.clean_tweet)\n",
    "        X = X.drop(['text'], axis=1)\n",
    "        X['tokens'] = X['cleaned_text'].apply(self.get_tokens)\n",
    "        X['cleaned_text'] = X['tokens'].apply(' '.join)\n",
    "        self.feature_names_ = np.array(X.columns)\n",
    "        return X.values"
   ]
  },
  {
   "cell_type": "code",
   "execution_count": 8,
   "metadata": {},
   "outputs": [],
   "source": [
    "pp = TweetPreprocessor(stem_text=True, remove_stopwords=False)\n",
    "X_train_pp = pp.fit_transform(X_train)\n",
    "X_test_pp = pp.transform(X_test)"
   ]
  },
  {
   "cell_type": "code",
   "execution_count": 9,
   "metadata": {},
   "outputs": [],
   "source": [
    "X_train_pp_df = pd.DataFrame(X_train_pp, columns=pp.feature_names_)"
   ]
  },
  {
   "cell_type": "code",
   "execution_count": 10,
   "metadata": {},
   "outputs": [
    {
     "data": {
      "text/html": [
       "<div>\n",
       "<style scoped>\n",
       "    .dataframe tbody tr th:only-of-type {\n",
       "        vertical-align: middle;\n",
       "    }\n",
       "\n",
       "    .dataframe tbody tr th {\n",
       "        vertical-align: top;\n",
       "    }\n",
       "\n",
       "    .dataframe thead th {\n",
       "        text-align: right;\n",
       "    }\n",
       "</style>\n",
       "<table border=\"1\" class=\"dataframe\">\n",
       "  <thead>\n",
       "    <tr style=\"text-align: right;\">\n",
       "      <th></th>\n",
       "      <th>cleaned_text</th>\n",
       "      <th>tokens</th>\n",
       "    </tr>\n",
       "  </thead>\n",
       "  <tbody>\n",
       "    <tr>\n",
       "      <th>0</th>\n",
       "      <td>our deed are the reason of thi earthquak may a...</td>\n",
       "      <td>[our, deed, are, the, reason, of, thi, earthqu...</td>\n",
       "    </tr>\n",
       "    <tr>\n",
       "      <th>1</th>\n",
       "      <td>forest fire near la rong sask canada</td>\n",
       "      <td>[forest, fire, near, la, rong, sask, canada]</td>\n",
       "    </tr>\n",
       "    <tr>\n",
       "      <th>2</th>\n",
       "      <td>all resid ask to shelter in place are be notif...</td>\n",
       "      <td>[all, resid, ask, to, shelter, in, place, are,...</td>\n",
       "    </tr>\n",
       "    <tr>\n",
       "      <th>3</th>\n",
       "      <td>peopl receiv wildfir evacu order in california</td>\n",
       "      <td>[peopl, receiv, wildfir, evacu, order, in, cal...</td>\n",
       "    </tr>\n",
       "    <tr>\n",
       "      <th>4</th>\n",
       "      <td>just got sent thi photo from rubi alaska as sm...</td>\n",
       "      <td>[just, got, sent, thi, photo, from, rubi, alas...</td>\n",
       "    </tr>\n",
       "  </tbody>\n",
       "</table>\n",
       "</div>"
      ],
      "text/plain": [
       "                                        cleaned_text  \\\n",
       "0  our deed are the reason of thi earthquak may a...   \n",
       "1               forest fire near la rong sask canada   \n",
       "2  all resid ask to shelter in place are be notif...   \n",
       "3     peopl receiv wildfir evacu order in california   \n",
       "4  just got sent thi photo from rubi alaska as sm...   \n",
       "\n",
       "                                              tokens  \n",
       "0  [our, deed, are, the, reason, of, thi, earthqu...  \n",
       "1       [forest, fire, near, la, rong, sask, canada]  \n",
       "2  [all, resid, ask, to, shelter, in, place, are,...  \n",
       "3  [peopl, receiv, wildfir, evacu, order, in, cal...  \n",
       "4  [just, got, sent, thi, photo, from, rubi, alas...  "
      ]
     },
     "execution_count": 10,
     "metadata": {},
     "output_type": "execute_result"
    }
   ],
   "source": [
    "X_train_pp_df.head()"
   ]
  },
  {
   "cell_type": "code",
   "execution_count": 11,
   "metadata": {},
   "outputs": [],
   "source": [
    "X_tr, X_val, y_tr, y_val = train_test_split(X_train_pp, y_train, stratify=y_train)"
   ]
  },
  {
   "cell_type": "code",
   "execution_count": 12,
   "metadata": {},
   "outputs": [
    {
     "data": {
      "text/plain": [
       "0    0.570328\n",
       "1    0.429672\n",
       "Name: target, dtype: float64"
      ]
     },
     "execution_count": 12,
     "metadata": {},
     "output_type": "execute_result"
    }
   ],
   "source": [
    "# Sanity check for stratification\n",
    "y_tr.value_counts() / len(y_tr)"
   ]
  },
  {
   "cell_type": "code",
   "execution_count": 15,
   "metadata": {},
   "outputs": [],
   "source": [
    "from sklearn.metrics import make_scorer, precision_score, recall_score, accuracy_score, f1_score\n",
    "from sklearn.model_selection import StratifiedKFold\n",
    "\n",
    "class DenseTransformer(TransformerMixin):\n",
    "    def fit(self, X, y=None, **fit_params):\n",
    "        return self\n",
    "\n",
    "    def transform(self, X, y=None, **fit_params):\n",
    "        return X.todense()\n",
    "\n",
    "pipe = Pipeline([\n",
    "    ('count', TfidfVectorizer(stop_words='english')),\n",
    "    ('dense', DenseTransformer()),\n",
    "    ('clf', GaussianNB())\n",
    "])\n",
    "\n",
    "scorers = {\n",
    "    'precision_score': make_scorer(precision_score),\n",
    "    'recall_score': make_scorer(recall_score),\n",
    "    'accuracy_score': make_scorer(accuracy_score),\n",
    "    'f1_score': make_scorer(f1_score)\n",
    "}\n",
    "\n",
    "params = [\n",
    "    {\n",
    "        'clf': [BernoulliNB()],\n",
    "        'clf__alpha': np.arange(0.1, 1.05, 0.05),\n",
    "        'count__min_df': [1, 2, 3, 4, 5],\n",
    "        'count__max_df': [0.1, 0.2, 0.3, 0.4, 0.5, 0.6, 0.7, 0.8, 0.9, 1.0],\n",
    "        'count__ngram_range': [(1, 1), (1, 2)],\n",
    "        'count__max_features': np.arange(5000, 10000, 50),\n",
    "    }, {\n",
    "        'clf': [GaussianNB()],\n",
    "        'count__min_df': [1, 2, 3, 4, 5],\n",
    "        'count__max_df': [0.1, 0.2, 0.3, 0.4, 0.5, 0.6, 0.7, 0.8, 0.9, 1.0],\n",
    "        'count__ngram_range': [(1, 1), (1, 2)],\n",
    "        'count__max_features': np.arange(5000, 10000, 50),\n",
    "    }, {\n",
    "        'clf': [MultinomialNB()],\n",
    "        'clf__alpha': np.arange(0.1, 1.05, 0.05),\n",
    "        'count__min_df': [1, 2, 3, 4, 5],\n",
    "        'count__max_df': [0.1, 0.2, 0.3, 0.4, 0.5, 0.6, 0.7, 0.8, 0.9, 1.0],\n",
    "        'count__ngram_range': [(1, 1), (1, 2)],\n",
    "        'count__max_features': np.arange(5000, 10000, 50),\n",
    "    }\n",
    "]\n",
    "\n",
    "def grid_search_wrapper(classifier, param_grid, X_train, X_test, y_train, y_test, scorers, refit_score='recall_score'):\n",
    "    \"\"\"\n",
    "    Fits a GridSearchCV classifier using refit_score for optimization.\n",
    "    Prints classifier performance metrics.\n",
    "    \"\"\"\n",
    "    skf = StratifiedKFold(n_splits=5)\n",
    "    grid_search = RandomizedSearchCV(classifier, param_grid, scoring=scorers, refit=refit_score,\n",
    "                                     cv=skf, return_train_score=True, n_jobs=-1)\n",
    "    grid_search.fit(X_train, y_train)\n",
    "\n",
    "    # make the predictions\n",
    "    y_pred = grid_search.predict(X_test)\n",
    "\n",
    "    print('Best params for {}'.format(refit_score))\n",
    "    print(grid_search.best_params_)\n",
    "\n",
    "    # confusion matrix on the test data.\n",
    "    print('\\nConfusion matrix optimized for {} on the test data:'.format(refit_score))\n",
    "    print(pd.DataFrame(confusion_matrix(y_test, y_pred),\n",
    "                 columns=['pred_neg', 'pred_pos'], index=['neg', 'pos']))\n",
    "    return grid_search\n",
    "\n",
    "# grid = RandomizedSearchCV(pipe, params, cv=5, scoring=scorers, refit=recall_score)\n",
    "# grid.fit(X_tr[:, 0], y_tr)\n",
    "# print('Best score:', grid.best_score_)\n",
    "# print('Best parameters:\\n{}'.format(grid.best_params_))"
   ]
  },
  {
   "cell_type": "code",
   "execution_count": 16,
   "metadata": {},
   "outputs": [
    {
     "name": "stdout",
     "output_type": "stream",
     "text": [
      "Best params for recall_score\n",
      "{'count__ngram_range': (1, 1), 'count__min_df': 2, 'count__max_features': 5350, 'count__max_df': 0.5, 'clf': GaussianNB()}\n",
      "\n",
      "Confusion matrix optimized for recall_score on the test data:\n"
     ]
    },
    {
     "ename": "NameError",
     "evalue": "name 'confusion_matrix' is not defined",
     "output_type": "error",
     "traceback": [
      "\u001b[0;31m---------------------------------------------------------------------------\u001b[0m",
      "\u001b[0;31mNameError\u001b[0m                                 Traceback (most recent call last)",
      "\u001b[0;32m<ipython-input-16-a5835ce0c44e>\u001b[0m in \u001b[0;36m<module>\u001b[0;34m\u001b[0m\n\u001b[0;32m----> 1\u001b[0;31m \u001b[0mgs_recall\u001b[0m \u001b[0;34m=\u001b[0m \u001b[0mgrid_search_wrapper\u001b[0m\u001b[0;34m(\u001b[0m\u001b[0mpipe\u001b[0m\u001b[0;34m,\u001b[0m \u001b[0mparams\u001b[0m\u001b[0;34m,\u001b[0m \u001b[0mX_tr\u001b[0m\u001b[0;34m[\u001b[0m\u001b[0;34m:\u001b[0m\u001b[0;34m,\u001b[0m \u001b[0;36m0\u001b[0m\u001b[0;34m]\u001b[0m\u001b[0;34m,\u001b[0m \u001b[0mX_val\u001b[0m\u001b[0;34m[\u001b[0m\u001b[0;34m:\u001b[0m\u001b[0;34m,\u001b[0m \u001b[0;36m0\u001b[0m\u001b[0;34m]\u001b[0m\u001b[0;34m,\u001b[0m \u001b[0my_tr\u001b[0m\u001b[0;34m,\u001b[0m \u001b[0my_val\u001b[0m\u001b[0;34m,\u001b[0m \u001b[0mscorers\u001b[0m\u001b[0;34m,\u001b[0m \u001b[0mrefit_score\u001b[0m\u001b[0;34m=\u001b[0m\u001b[0;34m'recall_score'\u001b[0m\u001b[0;34m)\u001b[0m\u001b[0;34m\u001b[0m\u001b[0;34m\u001b[0m\u001b[0m\n\u001b[0m",
      "\u001b[0;32m<ipython-input-15-9e21e384b023>\u001b[0m in \u001b[0;36mgrid_search_wrapper\u001b[0;34m(classifier, param_grid, X_train, X_test, y_train, y_test, scorers, refit_score)\u001b[0m\n\u001b[1;32m     64\u001b[0m     \u001b[0;31m# confusion matrix on the test data.\u001b[0m\u001b[0;34m\u001b[0m\u001b[0;34m\u001b[0m\u001b[0;34m\u001b[0m\u001b[0m\n\u001b[1;32m     65\u001b[0m     \u001b[0mprint\u001b[0m\u001b[0;34m(\u001b[0m\u001b[0;34m'\\nConfusion matrix optimized for {} on the test data:'\u001b[0m\u001b[0;34m.\u001b[0m\u001b[0mformat\u001b[0m\u001b[0;34m(\u001b[0m\u001b[0mrefit_score\u001b[0m\u001b[0;34m)\u001b[0m\u001b[0;34m)\u001b[0m\u001b[0;34m\u001b[0m\u001b[0;34m\u001b[0m\u001b[0m\n\u001b[0;32m---> 66\u001b[0;31m     print(pd.DataFrame(confusion_matrix(y_test, y_pred),\n\u001b[0m\u001b[1;32m     67\u001b[0m                  columns=['pred_neg', 'pred_pos'], index=['neg', 'pos']))\n\u001b[1;32m     68\u001b[0m     \u001b[0;32mreturn\u001b[0m \u001b[0mgrid_search\u001b[0m\u001b[0;34m\u001b[0m\u001b[0;34m\u001b[0m\u001b[0m\n",
      "\u001b[0;31mNameError\u001b[0m: name 'confusion_matrix' is not defined"
     ]
    }
   ],
   "source": [
    "gs_recall = grid_search_wrapper(pipe, params, X_tr[:, 0], X_val[:, 0], y_tr, y_val, scorers, refit_score='recall_score')"
   ]
  },
  {
   "cell_type": "code",
   "execution_count": 23,
   "metadata": {},
   "outputs": [],
   "source": [
    "from sklearn.metrics import confusion_matrix"
   ]
  },
  {
   "cell_type": "code",
   "execution_count": 24,
   "metadata": {},
   "outputs": [
    {
     "name": "stdout",
     "output_type": "stream",
     "text": [
      "Best params for precision_score\n",
      "{'count__ngram_range': (1, 2), 'count__min_df': 4, 'count__max_features': 7150, 'count__max_df': 1.0, 'clf__alpha': 0.7000000000000002, 'clf': BernoulliNB(alpha=0.7000000000000002)}\n",
      "\n",
      "Confusion matrix optimized for precision_score on the test data:\n",
      "     pred_neg  pred_pos\n",
      "neg      1019        67\n",
      "pos       319       499\n"
     ]
    }
   ],
   "source": [
    "gs_precision = grid_search_wrapper(pipe, params, X_tr[:, 0], X_val[:, 0], y_tr, y_val, scorers, refit_score='precision_score')"
   ]
  },
  {
   "cell_type": "code",
   "execution_count": 25,
   "metadata": {},
   "outputs": [
    {
     "name": "stdout",
     "output_type": "stream",
     "text": [
      "Best params for accuracy_score\n",
      "{'count__ngram_range': (1, 1), 'count__min_df': 3, 'count__max_features': 7050, 'count__max_df': 0.2, 'clf__alpha': 0.8000000000000002, 'clf': BernoulliNB(alpha=0.8000000000000002)}\n",
      "\n",
      "Confusion matrix optimized for accuracy_score on the test data:\n",
      "     pred_neg  pred_pos\n",
      "neg       969       117\n",
      "pos       257       561\n"
     ]
    }
   ],
   "source": [
    "gs_accuracy = grid_search_wrapper(pipe, params, X_tr[:, 0], X_val[:, 0], y_tr, y_val, scorers, refit_score='accuracy_score')"
   ]
  },
  {
   "cell_type": "code",
   "execution_count": 26,
   "metadata": {},
   "outputs": [
    {
     "name": "stdout",
     "output_type": "stream",
     "text": [
      "Best params for f1_score\n",
      "{'count__ngram_range': (1, 1), 'count__min_df': 1, 'count__max_features': 7350, 'count__max_df': 0.1, 'clf__alpha': 0.5500000000000002, 'clf': BernoulliNB(alpha=0.5500000000000002)}\n",
      "\n",
      "Confusion matrix optimized for f1_score on the test data:\n",
      "     pred_neg  pred_pos\n",
      "neg       949       137\n",
      "pos       245       573\n"
     ]
    }
   ],
   "source": [
    "gs_f1 = grid_search_wrapper(pipe, params, X_tr[:, 0], X_val[:, 0], y_tr, y_val, scorers, refit_score='f1_score')"
   ]
  },
  {
   "cell_type": "code",
   "execution_count": 28,
   "metadata": {},
   "outputs": [],
   "source": [
    "from sklearn.metrics import precision_recall_curve\n",
    "\n",
    "y_scores = gs_f1.predict_proba(X_val[:, 0])[:, 1]\n",
    "p, r, thresholds = precision_recall_curve(y_val, y_scores)"
   ]
  },
  {
   "cell_type": "code",
   "execution_count": 29,
   "metadata": {},
   "outputs": [],
   "source": [
    "def adjusted_classes(y_scores, t):\n",
    "    \"\"\"\n",
    "    This function adjusts class predictions based on the prediction threshold (t).\n",
    "    Will only work for binary classification problems.\n",
    "    \"\"\"\n",
    "    return [1 if y >= t else 0 for y in y_scores]\n",
    "\n",
    "def precision_recall_threshold(p, r, thresholds, t=0.5):\n",
    "    \"\"\"\n",
    "    plots the precision recall curve and shows the current value for each\n",
    "    by identifying the classifier's threshold (t).\n",
    "    \"\"\"\n",
    "    \n",
    "    # generate new class predictions based on the adjusted_classes\n",
    "    # function above and view the resulting confusion matrix.\n",
    "    y_pred_adj = adjusted_classes(y_scores, t)\n",
    "    cm = confusion_matrix(y_val, y_pred_adj)\n",
    "    print(pd.DataFrame(cm, columns=['pred_neg', 'pred_pos'], \n",
    "                       index=['neg', 'pos']))\n",
    "    \n",
    "    # plot the curve\n",
    "    plt.figure(figsize=(8,8))\n",
    "    plt.title(\"Precision and Recall curve ^ = current threshold\")\n",
    "    plt.step(r, p, color='b', alpha=0.2,\n",
    "             where='post')\n",
    "    plt.fill_between(r, p, step='post', alpha=0.2,\n",
    "                     color='b')\n",
    "    plt.ylim([0.5, 1.01]);\n",
    "    plt.xlim([0.5, 1.01]);\n",
    "    plt.xlabel('Recall');\n",
    "    plt.ylabel('Precision');\n",
    "    \n",
    "    # plot the current threshold on the line\n",
    "    close_default_clf = np.argmin(np.abs(thresholds - t))\n",
    "    plt.plot(r[close_default_clf], p[close_default_clf], '^', c='k',\n",
    "            markersize=15)\n",
    "    plt.show()\n",
    "    return cm"
   ]
  },
  {
   "cell_type": "code",
   "execution_count": 30,
   "metadata": {},
   "outputs": [
    {
     "name": "stdout",
     "output_type": "stream",
     "text": [
      "Recall: 0.9501050420168067\n",
      "Precision: 0.7284663865546219\n"
     ]
    }
   ],
   "source": [
    "print('Recall:', 1 - 95 / len(y_val))\n",
    "print('Precision:', 1 - 517 / len(y_val))"
   ]
  },
  {
   "cell_type": "code",
   "execution_count": 31,
   "metadata": {},
   "outputs": [],
   "source": [
    "def f1(precision, recall):\n",
    "    return 2 * ((precision * recall) / (precision + recall))"
   ]
  },
  {
   "cell_type": "code",
   "execution_count": 32,
   "metadata": {},
   "outputs": [
    {
     "name": "stdout",
     "output_type": "stream",
     "text": [
      "     pred_neg  pred_pos\n",
      "neg       834       252\n",
      "pos       191       627\n"
     ]
    },
    {
     "data": {
      "image/png": "[encoded data removed]",
      "text/plain": [
       "<Figure size 576x576 with 1 Axes>"
      ]
     },
     "metadata": {},
     "output_type": "display_data"
    },
    {
     "data": {
      "image/png": "[encoded data removed]",
      "text/plain": [
       "<Figure size 432x288 with 2 Axes>"
      ]
     },
     "metadata": {},
     "output_type": "display_data"
    }
   ],
   "source": [
    "from jpy import binary_classif_metrics\n",
    "\n",
    "m = binary_classif_metrics(precision_recall_threshold(p, r, thresholds, 0.2), annot_fmt='g')"
   ]
  },
  {
   "cell_type": "code",
   "execution_count": 33,
   "metadata": {},
   "outputs": [],
   "source": [
    "final_pred = gs_accuracy.predict(X_test_pp[:, 0])\n",
    "final_proba = gs_accuracy.predict_proba(X_test_pp[:, 0])"
   ]
  },
  {
   "cell_type": "code",
   "execution_count": 38,
   "metadata": {},
   "outputs": [],
   "source": [
    "f = np.where(final_proba[:,1]>=0.60, 1, 0)"
   ]
  },
  {
   "cell_type": "code",
   "execution_count": 39,
   "metadata": {},
   "outputs": [],
   "source": [
    "ids = test_data['id'].values\n",
    "final = {'id': ids, 'target': f}"
   ]
  },
  {
   "cell_type": "code",
   "execution_count": 40,
   "metadata": {},
   "outputs": [],
   "source": [
    "final_df = pd.DataFrame(final)"
   ]
  },
  {
   "cell_type": "code",
   "execution_count": 41,
   "metadata": {},
   "outputs": [],
   "source": [
    "final_df.to_csv('sub_t60.csv', index=None)"
   ]
  },
  {
   "cell_type": "code",
   "execution_count": null,
   "metadata": {},
   "outputs": [],
   "source": []
  },
  {
   "cell_type": "code",
   "execution_count": null,
   "metadata": {},
   "outputs": [],
   "source": []
  },
  {
   "cell_type": "markdown",
   "metadata": {},
   "source": [
    "## CNN"
   ]
  },
  {
   "cell_type": "markdown",
   "metadata": {},
   "source": [
    "### Create DataFrame with target labels"
   ]
  },
  {
   "cell_type": "code",
   "execution_count": 42,
   "metadata": {},
   "outputs": [],
   "source": [
    "cnn_vals = {\n",
    "    'Text_Final': X_train_pp[:, 0],\n",
    "    'tokens': X_train_pp[:, 1],\n",
    "    'Label': train_data.target\n",
    "}\n",
    "\n",
    "data = pd.DataFrame(cnn_vals)"
   ]
  },
  {
   "cell_type": "code",
   "execution_count": 43,
   "metadata": {},
   "outputs": [
    {
     "data": {
      "text/html": [
       "<div>\n",
       "<style scoped>\n",
       "    .dataframe tbody tr th:only-of-type {\n",
       "        vertical-align: middle;\n",
       "    }\n",
       "\n",
       "    .dataframe tbody tr th {\n",
       "        vertical-align: top;\n",
       "    }\n",
       "\n",
       "    .dataframe thead th {\n",
       "        text-align: right;\n",
       "    }\n",
       "</style>\n",
       "<table border=\"1\" class=\"dataframe\">\n",
       "  <thead>\n",
       "    <tr style=\"text-align: right;\">\n",
       "      <th></th>\n",
       "      <th>Text_Final</th>\n",
       "      <th>tokens</th>\n",
       "      <th>Label</th>\n",
       "      <th>Pos</th>\n",
       "      <th>Neg</th>\n",
       "    </tr>\n",
       "  </thead>\n",
       "  <tbody>\n",
       "    <tr>\n",
       "      <th>0</th>\n",
       "      <td>our deed are the reason of thi earthquak may a...</td>\n",
       "      <td>[our, deed, are, the, reason, of, thi, earthqu...</td>\n",
       "      <td>1</td>\n",
       "      <td>1</td>\n",
       "      <td>0</td>\n",
       "    </tr>\n",
       "    <tr>\n",
       "      <th>1</th>\n",
       "      <td>forest fire near la rong sask canada</td>\n",
       "      <td>[forest, fire, near, la, rong, sask, canada]</td>\n",
       "      <td>1</td>\n",
       "      <td>1</td>\n",
       "      <td>0</td>\n",
       "    </tr>\n",
       "    <tr>\n",
       "      <th>2</th>\n",
       "      <td>all resid ask to shelter in place are be notif...</td>\n",
       "      <td>[all, resid, ask, to, shelter, in, place, are,...</td>\n",
       "      <td>1</td>\n",
       "      <td>1</td>\n",
       "      <td>0</td>\n",
       "    </tr>\n",
       "    <tr>\n",
       "      <th>3</th>\n",
       "      <td>peopl receiv wildfir evacu order in california</td>\n",
       "      <td>[peopl, receiv, wildfir, evacu, order, in, cal...</td>\n",
       "      <td>1</td>\n",
       "      <td>1</td>\n",
       "      <td>0</td>\n",
       "    </tr>\n",
       "    <tr>\n",
       "      <th>4</th>\n",
       "      <td>just got sent thi photo from rubi alaska as sm...</td>\n",
       "      <td>[just, got, sent, thi, photo, from, rubi, alas...</td>\n",
       "      <td>1</td>\n",
       "      <td>1</td>\n",
       "      <td>0</td>\n",
       "    </tr>\n",
       "  </tbody>\n",
       "</table>\n",
       "</div>"
      ],
      "text/plain": [
       "                                          Text_Final  \\\n",
       "0  our deed are the reason of thi earthquak may a...   \n",
       "1               forest fire near la rong sask canada   \n",
       "2  all resid ask to shelter in place are be notif...   \n",
       "3     peopl receiv wildfir evacu order in california   \n",
       "4  just got sent thi photo from rubi alaska as sm...   \n",
       "\n",
       "                                              tokens  Label  Pos  Neg  \n",
       "0  [our, deed, are, the, reason, of, thi, earthqu...      1    1    0  \n",
       "1       [forest, fire, near, la, rong, sask, canada]      1    1    0  \n",
       "2  [all, resid, ask, to, shelter, in, place, are,...      1    1    0  \n",
       "3  [peopl, receiv, wildfir, evacu, order, in, cal...      1    1    0  \n",
       "4  [just, got, sent, thi, photo, from, rubi, alas...      1    1    0  "
      ]
     },
     "execution_count": 43,
     "metadata": {},
     "output_type": "execute_result"
    }
   ],
   "source": [
    "pos = []\n",
    "neg = []\n",
    "\n",
    "for l in data.Label:\n",
    "    if l == 0:\n",
    "        pos.append(0)\n",
    "        neg.append(1)\n",
    "    elif l == 1:\n",
    "        pos.append(1)\n",
    "        neg.append(0)\n",
    "        \n",
    "data['Pos']= pos\n",
    "data['Neg']= neg\n",
    "\n",
    "data.head()"
   ]
  },
  {
   "cell_type": "markdown",
   "metadata": {},
   "source": [
    "### Split into train/test"
   ]
  },
  {
   "cell_type": "code",
   "execution_count": 44,
   "metadata": {},
   "outputs": [],
   "source": [
    "data_train, data_test = train_test_split(data, random_state=42)"
   ]
  },
  {
   "cell_type": "code",
   "execution_count": 45,
   "metadata": {},
   "outputs": [
    {
     "name": "stdout",
     "output_type": "stream",
     "text": [
      "79215 words total, with a vocabulary size of 9463\n",
      "Max doc length is 33\n"
     ]
    }
   ],
   "source": [
    "# build training vocabulary and get maximum training sentence length\n",
    "# and total number of words in training data\n",
    "all_training_words = [word for tokens in data_train[\"tokens\"] for word in tokens]\n",
    "training_sentence_lengths = [len(tokens) for tokens in data_train[\"tokens\"]]\n",
    "TRAINING_VOCAB = sorted(list(set(all_training_words)))\n",
    "print(\"%s words total, with a vocabulary size of %s\" % (len(all_training_words), len(TRAINING_VOCAB)))\n",
    "print(\"Max doc length is %s\" % max(training_sentence_lengths))"
   ]
  },
  {
   "cell_type": "code",
   "execution_count": 46,
   "metadata": {},
   "outputs": [
    {
     "name": "stdout",
     "output_type": "stream",
     "text": [
      "26264 words total, with a vocabulary size of 5140\n",
      "Max doc length is 32\n"
     ]
    }
   ],
   "source": [
    "# build testing vocabulary and get maximum testing sentence length\n",
    "# and total number of words in testing data\n",
    "all_test_words = [word for tokens in data_test[\"tokens\"] for word in tokens]\n",
    "test_sentence_lengths = [len(tokens) for tokens in data_test[\"tokens\"]]\n",
    "TEST_VOCAB = sorted(list(set(all_test_words)))\n",
    "print(\"%s words total, with a vocabulary size of %s\" % (len(all_test_words), len(TEST_VOCAB)))\n",
    "print(\"Max doc length is %s\" % max(test_sentence_lengths))"
   ]
  },
  {
   "cell_type": "markdown",
   "metadata": {},
   "source": [
    "### Get embeddings"
   ]
  },
  {
   "cell_type": "code",
   "execution_count": 47,
   "metadata": {},
   "outputs": [],
   "source": [
    "from gensim import models\n",
    "\n",
    "word2vec_path = 'GoogleNews-vectors-negative300.bin.gz'\n",
    "word2vec = models.KeyedVectors.load_word2vec_format(word2vec_path, binary=True)\n",
    "\n",
    "def get_average_word2vec(tokens_list, vector, generate_missing=False, k=300):\n",
    "    if len(tokens_list)<1:\n",
    "        return np.zeros(k)\n",
    "    if generate_missing:\n",
    "        vectorized = [vector[word] if word in vector else np.random.rand(k) for word in tokens_list]\n",
    "    else:\n",
    "        vectorized = [vector[word] if word in vector else np.zeros(k) for word in tokens_list]\n",
    "    length = len(vectorized)\n",
    "    summed = np.sum(vectorized, axis=0)\n",
    "    averaged = np.divide(summed, length)\n",
    "    return averaged\n",
    "\n",
    "def get_word2vec_embeddings(vectors, clean_comments, generate_missing=False):\n",
    "    embeddings = clean_comments['tokens'].apply(lambda x: get_average_word2vec(x, vectors, \n",
    "                                                                                generate_missing=generate_missing))\n",
    "    return list(embeddings)\n",
    "\n",
    "training_embeddings = get_word2vec_embeddings(word2vec, data_train, generate_missing=True)"
   ]
  },
  {
   "cell_type": "markdown",
   "metadata": {},
   "source": [
    "### Tokenize and pad sequences"
   ]
  },
  {
   "cell_type": "code",
   "execution_count": 48,
   "metadata": {},
   "outputs": [],
   "source": [
    "MAX_SEQUENCE_LENGTH = 50\n",
    "EMBEDDING_DIM = 300"
   ]
  },
  {
   "cell_type": "code",
   "execution_count": 49,
   "metadata": {},
   "outputs": [
    {
     "name": "stdout",
     "output_type": "stream",
     "text": [
      "Found 9463 unique tokens.\n"
     ]
    }
   ],
   "source": [
    "from keras.preprocessing.text import Tokenizer\n",
    "from keras.preprocessing.sequence import pad_sequences\n",
    "\n",
    "tokenizer = Tokenizer(num_words=len(TRAINING_VOCAB), lower=True, char_level=False)\n",
    "tokenizer.fit_on_texts(data_train[\"Text_Final\"].tolist())\n",
    "training_sequences = tokenizer.texts_to_sequences(data_train[\"Text_Final\"].tolist())\n",
    "train_word_index = tokenizer.word_index\n",
    "print('Found %s unique tokens.' % len(train_word_index))"
   ]
  },
  {
   "cell_type": "code",
   "execution_count": 50,
   "metadata": {},
   "outputs": [],
   "source": [
    "train_cnn_data = pad_sequences(training_sequences, maxlen=MAX_SEQUENCE_LENGTH)"
   ]
  },
  {
   "cell_type": "code",
   "execution_count": 51,
   "metadata": {},
   "outputs": [
    {
     "name": "stdout",
     "output_type": "stream",
     "text": [
      "(9464, 300)\n"
     ]
    }
   ],
   "source": [
    "train_embedding_weights = np.zeros((len(train_word_index)+1, EMBEDDING_DIM))\n",
    "for word,index in train_word_index.items():\n",
    "    train_embedding_weights[index,:] = word2vec[word] if word in word2vec else np.random.rand(EMBEDDING_DIM)\n",
    "print(train_embedding_weights.shape)"
   ]
  },
  {
   "cell_type": "code",
   "execution_count": 52,
   "metadata": {},
   "outputs": [],
   "source": [
    "test_sequences = tokenizer.texts_to_sequences(data_test[\"Text_Final\"].tolist())\n",
    "test_cnn_data = pad_sequences(test_sequences, maxlen=MAX_SEQUENCE_LENGTH)"
   ]
  },
  {
   "cell_type": "markdown",
   "metadata": {},
   "source": [
    "### Define CNN"
   ]
  },
  {
   "cell_type": "code",
   "execution_count": 69,
   "metadata": {},
   "outputs": [],
   "source": [
    "from keras.models import Model\n",
    "from keras.layers import Dense, Dropout, concatenate, Input, Conv1D, GlobalMaxPooling1D, Embedding, Reshape, Flatten\n",
    "\n",
    "def ConvNet(embeddings, max_sequence_length, num_words, embedding_dim, labels_index):\n",
    "    embedding_layer = Embedding(num_words,\n",
    "                            embedding_dim,\n",
    "                            weights=[embeddings],\n",
    "                            input_length=max_sequence_length,\n",
    "                            trainable=False)\n",
    "    \n",
    "    sequence_input = Input(shape=(max_sequence_length,), dtype='int32')\n",
    "    embedded_sequences = embedding_layer(sequence_input)\n",
    "\n",
    "    convs = []\n",
    "    filter_sizes = [2,3,4,5,6]\n",
    "\n",
    "    for filter_size in filter_sizes:\n",
    "        l_conv = Conv1D(filters=200, kernel_size=filter_size, activation='relu')(embedded_sequences)\n",
    "        l_pool = GlobalMaxPooling1D()(l_conv)\n",
    "        convs.append(l_pool)\n",
    "\n",
    "\n",
    "    l_merge = concatenate(convs, axis=1)\n",
    "\n",
    "    x = Dropout(0.1)(l_merge)  \n",
    "    x = Dense(1000, activation='relu')(x)\n",
    "    x = Dropout(0.175)(x)\n",
    "    x = Dense(1000, activation='relu')(x)\n",
    "    x = Dropout(0.225)(x)\n",
    "    x = Dense(500, activation='relu')(x)\n",
    "    x = Dropout(0.25)(x)\n",
    "    x = Dense(500, activation='relu')(x)\n",
    "    x = Dropout(0.275)(x)\n",
    "    x = Dense(128, activation='relu')(x)\n",
    "    preds = Dense(labels_index, activation='sigmoid')(x)\n",
    "\n",
    "    model = Model(sequence_input, preds)\n",
    "    model.compile(loss='binary_crossentropy',\n",
    "                  optimizer='adam',\n",
    "                  metrics=['acc'])\n",
    "    model.summary()\n",
    "    return model"
   ]
  },
  {
   "cell_type": "code",
   "execution_count": 70,
   "metadata": {},
   "outputs": [],
   "source": [
    "label_names = ['Pos', 'Neg']"
   ]
  },
  {
   "cell_type": "code",
   "execution_count": 71,
   "metadata": {},
   "outputs": [],
   "source": [
    "y_train = data_train[label_names].values"
   ]
  },
  {
   "cell_type": "code",
   "execution_count": 72,
   "metadata": {},
   "outputs": [],
   "source": [
    "x_train = train_cnn_data\n",
    "y_tr = y_train"
   ]
  },
  {
   "cell_type": "code",
   "execution_count": 73,
   "metadata": {},
   "outputs": [
    {
     "name": "stdout",
     "output_type": "stream",
     "text": [
      "Model: \"functional_5\"\n",
      "__________________________________________________________________________________________________\n",
      "Layer (type)                    Output Shape         Param #     Connected to                     \n",
      "==================================================================================================\n",
      "input_3 (InputLayer)            [(None, 50)]         0                                            \n",
      "__________________________________________________________________________________________________\n",
      "embedding_2 (Embedding)         (None, 50, 300)      2839200     input_3[0][0]                    \n",
      "__________________________________________________________________________________________________\n",
      "conv1d_10 (Conv1D)              (None, 49, 200)      120200      embedding_2[0][0]                \n",
      "__________________________________________________________________________________________________\n",
      "conv1d_11 (Conv1D)              (None, 48, 200)      180200      embedding_2[0][0]                \n",
      "__________________________________________________________________________________________________\n",
      "conv1d_12 (Conv1D)              (None, 47, 200)      240200      embedding_2[0][0]                \n",
      "__________________________________________________________________________________________________\n",
      "conv1d_13 (Conv1D)              (None, 46, 200)      300200      embedding_2[0][0]                \n",
      "__________________________________________________________________________________________________\n",
      "conv1d_14 (Conv1D)              (None, 45, 200)      360200      embedding_2[0][0]                \n",
      "__________________________________________________________________________________________________\n",
      "global_max_pooling1d_10 (Global (None, 200)          0           conv1d_10[0][0]                  \n",
      "__________________________________________________________________________________________________\n",
      "global_max_pooling1d_11 (Global (None, 200)          0           conv1d_11[0][0]                  \n",
      "__________________________________________________________________________________________________\n",
      "global_max_pooling1d_12 (Global (None, 200)          0           conv1d_12[0][0]                  \n",
      "__________________________________________________________________________________________________\n",
      "global_max_pooling1d_13 (Global (None, 200)          0           conv1d_13[0][0]                  \n",
      "__________________________________________________________________________________________________\n",
      "global_max_pooling1d_14 (Global (None, 200)          0           conv1d_14[0][0]                  \n",
      "__________________________________________________________________________________________________\n",
      "concatenate_2 (Concatenate)     (None, 1000)         0           global_max_pooling1d_10[0][0]    \n",
      "                                                                 global_max_pooling1d_11[0][0]    \n",
      "                                                                 global_max_pooling1d_12[0][0]    \n",
      "                                                                 global_max_pooling1d_13[0][0]    \n",
      "                                                                 global_max_pooling1d_14[0][0]    \n",
      "__________________________________________________________________________________________________\n",
      "dropout_6 (Dropout)             (None, 1000)         0           concatenate_2[0][0]              \n",
      "__________________________________________________________________________________________________\n",
      "dense_8 (Dense)                 (None, 1000)         1001000     dropout_6[0][0]                  \n",
      "__________________________________________________________________________________________________\n",
      "dropout_7 (Dropout)             (None, 1000)         0           dense_8[0][0]                    \n",
      "__________________________________________________________________________________________________\n",
      "dense_9 (Dense)                 (None, 1000)         1001000     dropout_7[0][0]                  \n",
      "__________________________________________________________________________________________________\n",
      "dropout_8 (Dropout)             (None, 1000)         0           dense_9[0][0]                    \n",
      "__________________________________________________________________________________________________\n",
      "dense_10 (Dense)                (None, 500)          500500      dropout_8[0][0]                  \n",
      "__________________________________________________________________________________________________\n",
      "dropout_9 (Dropout)             (None, 500)          0           dense_10[0][0]                   \n",
      "__________________________________________________________________________________________________\n",
      "dense_11 (Dense)                (None, 500)          250500      dropout_9[0][0]                  \n",
      "__________________________________________________________________________________________________\n",
      "dropout_10 (Dropout)            (None, 500)          0           dense_11[0][0]                   \n",
      "__________________________________________________________________________________________________\n",
      "dense_12 (Dense)                (None, 128)          64128       dropout_10[0][0]                 \n",
      "__________________________________________________________________________________________________\n",
      "dense_13 (Dense)                (None, 2)            258         dense_12[0][0]                   \n",
      "==================================================================================================\n",
      "Total params: 6,857,586\n",
      "Trainable params: 4,018,386\n",
      "Non-trainable params: 2,839,200\n",
      "__________________________________________________________________________________________________\n"
     ]
    }
   ],
   "source": [
    "model = ConvNet(train_embedding_weights, MAX_SEQUENCE_LENGTH, len(train_word_index)+1, EMBEDDING_DIM, \n",
    "                len(list(label_names)))"
   ]
  },
  {
   "cell_type": "markdown",
   "metadata": {},
   "source": [
    "### Train CNN"
   ]
  },
  {
   "cell_type": "code",
   "execution_count": 82,
   "metadata": {},
   "outputs": [],
   "source": [
    "num_epochs = 10\n",
    "batch_size = 32"
   ]
  },
  {
   "cell_type": "code",
   "execution_count": 83,
   "metadata": {},
   "outputs": [
    {
     "name": "stdout",
     "output_type": "stream",
     "text": [
      "Epoch 1/10\n",
      "161/161 [==============================] - 13s 83ms/step - loss: 0.2624 - acc: 0.8895 - val_loss: 0.5637 - val_acc: 0.8039\n",
      "Epoch 2/10\n",
      "161/161 [==============================] - 13s 83ms/step - loss: 0.2049 - acc: 0.9173 - val_loss: 0.6610 - val_acc: 0.8004\n",
      "Epoch 3/10\n",
      "161/161 [==============================] - 14s 87ms/step - loss: 0.1767 - acc: 0.9301 - val_loss: 0.6630 - val_acc: 0.7933\n",
      "Epoch 4/10\n",
      "161/161 [==============================] - 14s 87ms/step - loss: 0.1446 - acc: 0.9439 - val_loss: 0.9239 - val_acc: 0.7828\n",
      "Epoch 5/10\n",
      "161/161 [==============================] - 14s 88ms/step - loss: 0.1123 - acc: 0.9547 - val_loss: 0.8816 - val_acc: 0.7811\n",
      "Epoch 6/10\n",
      "161/161 [==============================] - 15s 90ms/step - loss: 0.0947 - acc: 0.9624 - val_loss: 0.8645 - val_acc: 0.7828\n",
      "Epoch 7/10\n",
      "161/161 [==============================] - 14s 87ms/step - loss: 0.0913 - acc: 0.9644 - val_loss: 0.9685 - val_acc: 0.7566\n",
      "Epoch 8/10\n",
      "161/161 [==============================] - 14s 88ms/step - loss: 0.0848 - acc: 0.9638 - val_loss: 1.8845 - val_acc: 0.7758\n",
      "Epoch 9/10\n",
      "161/161 [==============================] - 14s 89ms/step - loss: 0.0893 - acc: 0.9648 - val_loss: 1.3740 - val_acc: 0.7653\n",
      "Epoch 10/10\n",
      "161/161 [==============================] - 14s 90ms/step - loss: 0.0702 - acc: 0.9694 - val_loss: 1.3943 - val_acc: 0.7898\n"
     ]
    }
   ],
   "source": [
    "hist = model.fit(x_train, y_tr, epochs=num_epochs, validation_split=0.1, shuffle=True, batch_size=batch_size)"
   ]
  },
  {
   "cell_type": "markdown",
   "metadata": {},
   "source": [
    "### Test CNN"
   ]
  },
  {
   "cell_type": "code",
   "execution_count": 84,
   "metadata": {},
   "outputs": [
    {
     "name": "stdout",
     "output_type": "stream",
     "text": [
      "2/2 [==============================] - 1s 326ms/step\n"
     ]
    }
   ],
   "source": [
    "predictions = model.predict(test_cnn_data, batch_size=1024, verbose=1)"
   ]
  },
  {
   "cell_type": "code",
   "execution_count": 85,
   "metadata": {},
   "outputs": [],
   "source": [
    "labels = [1, 0]"
   ]
  },
  {
   "cell_type": "code",
   "execution_count": 86,
   "metadata": {},
   "outputs": [],
   "source": [
    "prediction_labels=[]\n",
    "for p in predictions:\n",
    "    prediction_labels.append(labels[np.argmax(p)])"
   ]
  },
  {
   "cell_type": "code",
   "execution_count": 87,
   "metadata": {},
   "outputs": [
    {
     "data": {
      "text/plain": [
       "0.7930672268907563"
      ]
     },
     "execution_count": 87,
     "metadata": {},
     "output_type": "execute_result"
    }
   ],
   "source": [
    "sum(data_test.Label==prediction_labels)/len(prediction_labels)"
   ]
  },
  {
   "cell_type": "code",
   "execution_count": 728,
   "metadata": {},
   "outputs": [
    {
     "data": {
      "text/plain": [
       "array([[   0,    0,    0, ..., 2176, 1312,  447],\n",
       "       [   0,    0,    0, ..., 6531,    7, 1949],\n",
       "       [   0,    0,    0, ..., 1272,    2,    3],\n",
       "       ...,\n",
       "       [   0,    0,    0, ...,    3,  657, 9325],\n",
       "       [   0,    0,    0, ..., 2954,  120,  868],\n",
       "       [   0,    0,    0, ...,    2, 2004,  186]], dtype=int32)"
      ]
     },
     "execution_count": 728,
     "metadata": {},
     "output_type": "execute_result"
    }
   ],
   "source": []
  },
  {
   "cell_type": "code",
   "execution_count": 731,
   "metadata": {},
   "outputs": [
    {
     "data": {
      "text/plain": [
       "array(['just happen a terribl car crash',\n",
       "       'heard about earthquak is differ citi stay safe everyon',\n",
       "       'there is a forest fire at spot pond gees are flee across the street i cannot save them all',\n",
       "       ..., 'green line derail in chicago',\n",
       "       'meg issu hazard weather outlook hwo',\n",
       "       'cityofcalgari ha activ it municip emerg plan yycstorm'],\n",
       "      dtype=object)"
      ]
     },
     "execution_count": 731,
     "metadata": {},
     "output_type": "execute_result"
    }
   ],
   "source": []
  },
  {
   "cell_type": "code",
   "execution_count": 742,
   "metadata": {},
   "outputs": [
    {
     "name": "stdout",
     "output_type": "stream",
     "text": [
      "102/102 [==============================] - 3s 27ms/step\n"
     ]
    }
   ],
   "source": [
    "# Final\n",
    "test_sequences = tokenizer.texts_to_sequences(X_test_pp[:, 0].tolist())\n",
    "test_cnn_data = pad_sequences(test_sequences, maxlen=MAX_SEQUENCE_LENGTH)\n",
    "\n",
    "ypred = model.predict(test_cnn_data, batch_size=32, verbose=1)\n",
    "prediction_labels = []\n",
    "for p in ypred:\n",
    "    prediction_labels.append(labels[np.argmax(p)])\n",
    "\n",
    "f = {\n",
    "    'id': test_data['id'].values,\n",
    "    'target': prediction_labels\n",
    "}\n",
    "f_df = pd.DataFrame(f)"
   ]
  },
  {
   "cell_type": "code",
   "execution_count": 744,
   "metadata": {},
   "outputs": [],
   "source": [
    "f_df.to_csv('sub_cnn.csv', index=None)"
   ]
  },
  {
   "cell_type": "code",
   "execution_count": null,
   "metadata": {},
   "outputs": [],
   "source": []
  }
 ],
 "metadata": {
  "kernelspec": {
   "display_name": "Python 3",
   "language": "python",
   "name": "python3"
  },
  "language_info": {
   "codemirror_mode": {
    "name": "ipython",
    "version": 3
   },
   "file_extension": ".py",
   "mimetype": "text/x-python",
   "name": "python",
   "nbconvert_exporter": "python",
   "pygments_lexer": "ipython3",
   "version": "3.8.5"
  }
 },
 "nbformat": 4,
 "nbformat_minor": 4
}
