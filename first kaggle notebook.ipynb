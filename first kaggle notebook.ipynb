{
 "cells": [
  {
   "cell_type": "markdown",
   "metadata": {},
   "source": [
    "# Imports"
   ]
  },
  {
   "cell_type": "code",
   "execution_count": null,
   "metadata": {
    "_cell_guid": "b1076dfc-b9ad-4769-8c92-a6c4dae69d19",
    "_uuid": "8f2839f25d086af736a60e9eeb907d3b93b6e0e5"
   },
   "outputs": [],
   "source": [
    "import re\n",
    "import numpy as np\n",
    "import pandas as pd\n",
    "import matplotlib.pyplot as plt\n",
    "import seaborn as sns; sns.set()\n",
    "\n",
    "from nltk.stem import PorterStemmer\n",
    "from sklearn.preprocessing import StandardScaler, MinMaxScaler, PolynomialFeatures\n",
    "from sklearn.feature_extraction.text import CountVectorizer, TfidfTransformer, ENGLISH_STOP_WORDS\n",
    "from sklearn.decomposition import PCA\n",
    "from sklearn.model_selection import train_test_split, cross_val_score, RandomizedSearchCV, GridSearchCV\n",
    "from sklearn.pipeline import make_pipeline, Pipeline\n",
    "from sklearn.linear_model import LogisticRegression\n",
    "from sklearn.svm import LinearSVC, SVC\n",
    "from sklearn.naive_bayes import GaussianNB, BernoulliNB, MultinomialNB\n",
    "from sklearn.ensemble import RandomForestClassifier\n",
    "from sklearn.metrics import roc_curve, roc_auc_score, auc, precision_recall_curve, f1_score"
   ]
  },
  {
   "cell_type": "code",
   "execution_count": null,
   "metadata": {
    "_cell_guid": "79c7e3d0-c299-4dcb-8224-4455121ee9b0",
    "_uuid": "d629ff2d2480ee46fbb7e2d37f6b5fab8052498a"
   },
   "outputs": [],
   "source": [
    "train = pd.read_csv('/kaggle/input/nlp-getting-started/train.csv')\n",
    "test = pd.read_csv('/kaggle/input/nlp-getting-started/test.csv')\n",
    "train_ids = train['id']\n",
    "test_ids = test['id']"
   ]
  },
  {
   "cell_type": "markdown",
   "metadata": {},
   "source": [
    "# Data Cleaning"
   ]
  },
  {
   "cell_type": "markdown",
   "metadata": {},
   "source": [
    "## Fill missing 'keyword' and 'location' values"
   ]
  },
  {
   "cell_type": "code",
   "execution_count": null,
   "metadata": {},
   "outputs": [],
   "source": [
    "# Missing values\n",
    "print(train.isnull().sum())"
   ]
  },
  {
   "cell_type": "code",
   "execution_count": null,
   "metadata": {},
   "outputs": [],
   "source": [
    "train[['keyword', 'location']] = train[['keyword', 'location']].fillna('')\n",
    "test[['keyword', 'location']] = test[['keyword', 'location']].fillna('')"
   ]
  },
  {
   "cell_type": "markdown",
   "metadata": {},
   "source": [
    "## Remove user handles"
   ]
  },
  {
   "cell_type": "code",
   "execution_count": null,
   "metadata": {},
   "outputs": [],
   "source": [
    "def remove_pattern(input_text, pattern):\n",
    "    handles = re.findall(pattern, input_text)\n",
    "    for handle in handles:\n",
    "        input_text = re.sub(handle, '', input_text)\n",
    "        \n",
    "    return input_text"
   ]
  },
  {
   "cell_type": "code",
   "execution_count": null,
   "metadata": {},
   "outputs": [],
   "source": [
    "# remove user handles (@user)\n",
    "train['text_cleaned'] = np.vectorize(remove_pattern)(train['text'], \"@[\\w]*\")\n",
    "test['text_cleaned'] = np.vectorize(remove_pattern)(test['text'], \"@[\\w]*\")"
   ]
  },
  {
   "cell_type": "markdown",
   "metadata": {},
   "source": [
    "## Remove special characters"
   ]
  },
  {
   "cell_type": "code",
   "execution_count": null,
   "metadata": {},
   "outputs": [],
   "source": [
    "def remove_special_char(cols):\n",
    "    return cols.str.replace(\"[^a-zA-Z#]\", \" \")"
   ]
  },
  {
   "cell_type": "code",
   "execution_count": null,
   "metadata": {},
   "outputs": [],
   "source": [
    "train[['text_cleaned', 'keyword', 'location']] = train[['text_cleaned', 'keyword', 'location']].apply(remove_special_char)"
   ]
  },
  {
   "cell_type": "markdown",
   "metadata": {},
   "source": [
    "## Remove stop words"
   ]
  },
  {
   "cell_type": "code",
   "execution_count": null,
   "metadata": {},
   "outputs": [],
   "source": [
    "train['text_cleaned'] = train['text_cleaned'].apply(lambda x: ' '.join([w for w in x.split() if w not in ENGLISH_STOP_WORDS]))\n",
    "test['text_cleaned'] = test['text_cleaned'].apply(lambda x: ' '.join([w for w in x.split() if w not in ENGLISH_STOP_WORDS]))"
   ]
  },
  {
   "cell_type": "markdown",
   "metadata": {},
   "source": [
    "## Stemming"
   ]
  },
  {
   "cell_type": "code",
   "execution_count": null,
   "metadata": {},
   "outputs": [],
   "source": [
    "stemmer = PorterStemmer()\n",
    "tokenized_tweets = train['text_cleaned'].apply(lambda x: x.split())\n",
    "train['text_stems'] = tokenized_tweets.apply(lambda x: [stemmer.stem(i) for i in x])\n",
    "\n",
    "tokenized_tweets = test['text_cleaned'].apply(lambda x: x.split())\n",
    "test['text_stems'] = tokenized_tweets.apply(lambda x: [stemmer.stem(i) for i in x])"
   ]
  },
  {
   "cell_type": "code",
   "execution_count": null,
   "metadata": {},
   "outputs": [],
   "source": [
    "train['text_stemmed'] = train['text_stems'].apply(lambda x: ' '.join(x))\n",
    "test['text_stemmed'] = test['text_stems'].apply(lambda x: ' '.join(x))"
   ]
  },
  {
   "cell_type": "markdown",
   "metadata": {},
   "source": [
    "# Feature Engineering"
   ]
  },
  {
   "cell_type": "markdown",
   "metadata": {},
   "source": [
    "## Add column for tweet length"
   ]
  },
  {
   "cell_type": "code",
   "execution_count": null,
   "metadata": {},
   "outputs": [],
   "source": [
    "train['length_raw'] = train['text'].apply(lambda x: len(x))\n",
    "test['length_raw'] = test['text'].apply(lambda x: len(x))"
   ]
  },
  {
   "cell_type": "markdown",
   "metadata": {},
   "source": [
    "## Add indicator column for user handles"
   ]
  },
  {
   "cell_type": "code",
   "execution_count": null,
   "metadata": {},
   "outputs": [],
   "source": [
    "def contains_handle(col):\n",
    "    if re.search(\"@[\\w]*\", col):\n",
    "        return 1\n",
    "    else:\n",
    "        return 0"
   ]
  },
  {
   "cell_type": "code",
   "execution_count": null,
   "metadata": {},
   "outputs": [],
   "source": [
    "train['contains_handle'] = train['text'].apply(contains_handle)\n",
    "test['contains_handle'] = test['text'].apply(contains_handle)"
   ]
  },
  {
   "cell_type": "markdown",
   "metadata": {},
   "source": [
    "## Add a length column for cleaned tweets"
   ]
  },
  {
   "cell_type": "code",
   "execution_count": null,
   "metadata": {},
   "outputs": [],
   "source": [
    "train['length_cleaned'] = train['text_cleaned'].apply(lambda x: len(x))\n",
    "test['length_cleaned'] = test['text_cleaned'].apply(lambda x: len(x))"
   ]
  },
  {
   "cell_type": "markdown",
   "metadata": {},
   "source": [
    "# Preparation"
   ]
  },
  {
   "cell_type": "markdown",
   "metadata": {},
   "source": [
    "## Drop unnecessary columns"
   ]
  },
  {
   "cell_type": "code",
   "execution_count": null,
   "metadata": {},
   "outputs": [],
   "source": [
    "train = train.drop(['text', 'text_cleaned', 'text_stems', 'id'], axis=1)\n",
    "test = test.drop(['text', 'text_cleaned', 'text_stems', 'id'], axis=1)"
   ]
  },
  {
   "cell_type": "markdown",
   "metadata": {},
   "source": [
    "# Feature Extraction"
   ]
  },
  {
   "cell_type": "markdown",
   "metadata": {},
   "source": [
    "## Vectorization"
   ]
  },
  {
   "cell_type": "code",
   "execution_count": null,
   "metadata": {},
   "outputs": [],
   "source": [
    "X_train = train.drop(['target'], axis=1)\n",
    "X_test = test\n",
    "y_train = np.array(train['target'])"
   ]
  },
  {
   "cell_type": "code",
   "execution_count": null,
   "metadata": {},
   "outputs": [],
   "source": [
    "# Copy data frames with text transformed with CountVectorizer\n",
    "X_train_vect = X_train\n",
    "X_test_vect = X_test\n",
    "\n",
    "keyword_vect = CountVectorizer(min_df=3).fit(X_train_vect['keyword'])\n",
    "keyword_df = pd.DataFrame(keyword_vect.transform(X_train_vect['keyword']).todense(), columns=keyword_vect.get_feature_names())\n",
    "X_train_vect = pd.concat([keyword_df, X_train_vect], axis=1)\n",
    "keyword_df = pd.DataFrame(keyword_vect.transform(X_test_vect['keyword']).todense(), columns=keyword_vect.get_feature_names())\n",
    "X_test_vect = pd.concat([keyword_df, X_test_vect], axis=1)\n",
    "\n",
    "location_vect = CountVectorizer(min_df=3, ngram_range=(1, 2)).fit(X_train_vect['location'])\n",
    "location_df = pd.DataFrame(location_vect.transform(X_train_vect['location']).todense(), columns=location_vect.get_feature_names())\n",
    "X_train_vect = pd.concat([location_df, X_train_vect], axis=1)\n",
    "location_df = pd.DataFrame(location_vect.transform(X_test_vect['location']).todense(), columns=location_vect.get_feature_names())\n",
    "X_test_vect = pd.concat([location_df, X_test_vect], axis=1)\n",
    "\n",
    "text_vect = CountVectorizer(min_df=3, ngram_range=(1, 2)).fit(X_train_vect['text_stemmed'])\n",
    "text_df = pd.DataFrame(text_vect.transform(X_train_vect['text_stemmed']).todense(), columns=text_vect.get_feature_names())\n",
    "X_train_vect = pd.concat([text_df, X_train_vect], axis=1)\n",
    "text_df = pd.DataFrame(text_vect.transform(X_test_vect['text_stemmed']).todense(), columns=text_vect.get_feature_names())\n",
    "X_test_vect = pd.concat([text_df, X_test_vect], axis=1)"
   ]
  },
  {
   "cell_type": "markdown",
   "metadata": {},
   "source": [
    "## Polynomial Features"
   ]
  },
  {
   "cell_type": "code",
   "execution_count": null,
   "metadata": {},
   "outputs": [],
   "source": [
    "lengths_df = X_train_vect[['length_raw', 'length_cleaned']]\n",
    "poly = PolynomialFeatures(2).fit(lengths_df)\n",
    "X_train_poly = pd.DataFrame(poly.transform(lengths_df), columns=poly.get_feature_names())\n",
    "X_train_combo = pd.concat([X_train_vect, X_train_poly], axis=1)\n",
    "X_train_combo.drop(['text_stemmed', 'keyword', 'location'], axis=1, inplace=True)"
   ]
  },
  {
   "cell_type": "code",
   "execution_count": null,
   "metadata": {},
   "outputs": [],
   "source": [
    "lengths_df = X_test_vect[['length_raw', 'length_cleaned']]\n",
    "poly = PolynomialFeatures(2).fit(lengths_df)\n",
    "X_test_poly = pd.DataFrame(poly.transform(lengths_df), columns=poly.get_feature_names())\n",
    "X_test_combo = pd.concat([X_test_vect, X_test_poly], axis=1)\n",
    "X_test_combo.drop(['text_stemmed', 'keyword', 'location'], axis=1, inplace=True)"
   ]
  },
  {
   "cell_type": "markdown",
   "metadata": {},
   "source": [
    "# Logistic Regression"
   ]
  },
  {
   "cell_type": "code",
   "execution_count": null,
   "metadata": {},
   "outputs": [],
   "source": [
    "pipe = Pipeline([\n",
    "    ('scaler', MinMaxScaler()),\n",
    "    ('clf', LogisticRegression(solver='liblinear'))\n",
    "])"
   ]
  },
  {
   "cell_type": "markdown",
   "metadata": {},
   "source": [
    "## Tune parameters"
   ]
  },
  {
   "cell_type": "code",
   "execution_count": null,
   "metadata": {},
   "outputs": [],
   "source": [
    "param_grid = {\n",
    "    'clf__penalty': ['l2'],\n",
    "    'clf__C': np.logspace(0.1, 0.2, 10),\n",
    "    'clf__solver': ['liblinear']\n",
    "}"
   ]
  },
  {
   "cell_type": "code",
   "execution_count": null,
   "metadata": {},
   "outputs": [],
   "source": [
    "grid_search = GridSearchCV(pipe, param_grid, cv=5, return_train_score=True)\n",
    "grid_search.fit(X_train_combo, y_train)\n",
    "\n",
    "print(\"Best cross-validation score:\", grid_search.best_score_)\n",
    "print(\"Best parameters:\\n\", grid_search.best_params_)"
   ]
  },
  {
   "cell_type": "markdown",
   "metadata": {},
   "source": [
    "## Best model"
   ]
  },
  {
   "cell_type": "code",
   "execution_count": null,
   "metadata": {},
   "outputs": [],
   "source": [
    "Xtrain, Xtest, ytrain, ytest = train_test_split(X_train_combo, y_train, random_state=42)"
   ]
  },
  {
   "cell_type": "code",
   "execution_count": null,
   "metadata": {},
   "outputs": [],
   "source": [
    "clf = LogisticRegression(C=1.2589, penalty='l2', solver='liblinear')"
   ]
  },
  {
   "cell_type": "code",
   "execution_count": null,
   "metadata": {},
   "outputs": [],
   "source": [
    "clf.fit(Xtrain, ytrain)"
   ]
  },
  {
   "cell_type": "markdown",
   "metadata": {},
   "source": [
    "## Evaluation"
   ]
  },
  {
   "cell_type": "code",
   "execution_count": null,
   "metadata": {},
   "outputs": [],
   "source": [
    "ypred = clf.predict_proba(Xtest)[:, 1]\n",
    "\n",
    "scores = []\n",
    "for p in ypred:\n",
    "    if p >= 0.56:\n",
    "        scores.append(1)\n",
    "    else:\n",
    "        scores.append(0)\n",
    "\n",
    "score = np.sum(scores == ytest) / len(scores)\n",
    "print(score)"
   ]
  },
  {
   "cell_type": "markdown",
   "metadata": {},
   "source": [
    "## Output"
   ]
  },
  {
   "cell_type": "code",
   "execution_count": null,
   "metadata": {},
   "outputs": [],
   "source": [
    "clf.fit(X_train_combo, y_train)"
   ]
  },
  {
   "cell_type": "code",
   "execution_count": null,
   "metadata": {},
   "outputs": [],
   "source": [
    "ypred = clf.predict_proba(X_test_combo)[:, 1]\n",
    "scores = []\n",
    "for p in ypred:\n",
    "    if p >= 0.56:\n",
    "        scores.append(1)\n",
    "    else:\n",
    "        scores.append(0)"
   ]
  },
  {
   "cell_type": "code",
   "execution_count": null,
   "metadata": {},
   "outputs": [],
   "source": [
    "output = pd.DataFrame(zip(test_ids, scores), columns=['id', 'target'])\n",
    "output.to_csv('lr_results.csv', index=None, header=True)"
   ]
  },
  {
   "cell_type": "markdown",
   "metadata": {},
   "source": [
    "# Linear SVC"
   ]
  },
  {
   "cell_type": "code",
   "execution_count": null,
   "metadata": {},
   "outputs": [],
   "source": [
    "pipe = Pipeline([\n",
    "    ('clf', LinearSVC(max_iter=20000))\n",
    "])"
   ]
  },
  {
   "cell_type": "markdown",
   "metadata": {},
   "source": [
    "## Tune parameters"
   ]
  },
  {
   "cell_type": "code",
   "execution_count": null,
   "metadata": {},
   "outputs": [],
   "source": [
    "param_grid = [\n",
    "    {'clf__C': np.linspace(0.0001, 10, 10)},\n",
    "]"
   ]
  },
  {
   "cell_type": "code",
   "execution_count": null,
   "metadata": {},
   "outputs": [],
   "source": [
    "np.linspace(0.0001, 10, 10)"
   ]
  },
  {
   "cell_type": "code",
   "execution_count": null,
   "metadata": {},
   "outputs": [],
   "source": [
    "#grid_search = GridSearchCV(pipe, param_grid, cv=3, return_train_score=True)\n",
    "#grid_search.fit(X_train_combo, y_train)\n",
    "\n",
    "#print(\"Best cross-validation score:\", grid_search.best_score_)\n",
    "#print(\"Best parameters:\\n\", grid_search.best_params_)"
   ]
  },
  {
   "cell_type": "code",
   "execution_count": null,
   "metadata": {},
   "outputs": [],
   "source": []
  },
  {
   "cell_type": "markdown",
   "metadata": {},
   "source": [
    "# Naive Bayes"
   ]
  },
  {
   "cell_type": "code",
   "execution_count": null,
   "metadata": {},
   "outputs": [],
   "source": [
    "pipe = Pipeline([\n",
    "    ('clf', BernoulliNB())\n",
    "])"
   ]
  },
  {
   "cell_type": "markdown",
   "metadata": {},
   "source": [
    "## Tune parameters"
   ]
  },
  {
   "cell_type": "code",
   "execution_count": null,
   "metadata": {},
   "outputs": [],
   "source": [
    "param_grid = [\n",
    "    {'clf': [BernoulliNB(), MultinomialNB()],\n",
    "     'clf__alpha': np.linspace(1.1, 3.33, 10)},\n",
    "]"
   ]
  },
  {
   "cell_type": "code",
   "execution_count": null,
   "metadata": {},
   "outputs": [],
   "source": [
    "#grid_search = GridSearchCV(pipe, param_grid, cv=5, return_train_score=True)\n",
    "#grid_search.fit(X_train_combo, y_train)\n",
    "\n",
    "#print(\"Best cross-validation score:\", grid_search.best_score_)\n",
    "#print(\"Best parameters:\\n\", grid_search.best_params_)"
   ]
  },
  {
   "cell_type": "markdown",
   "metadata": {},
   "source": [
    "## Best model"
   ]
  },
  {
   "cell_type": "code",
   "execution_count": null,
   "metadata": {},
   "outputs": [],
   "source": [
    "Xtrain, Xtest, ytrain, ytest = train_test_split(X_train_combo, y_train, random_state=42)"
   ]
  },
  {
   "cell_type": "code",
   "execution_count": null,
   "metadata": {},
   "outputs": [],
   "source": [
    "clf = BernoulliNB(alpha=1.84)"
   ]
  },
  {
   "cell_type": "code",
   "execution_count": null,
   "metadata": {},
   "outputs": [],
   "source": [
    "clf.fit(Xtrain, ytrain)"
   ]
  },
  {
   "cell_type": "markdown",
   "metadata": {},
   "source": [
    "## Evaluation"
   ]
  },
  {
   "cell_type": "code",
   "execution_count": null,
   "metadata": {},
   "outputs": [],
   "source": [
    "ypred = clf.predict_proba(Xtest)[:, 1]\n",
    "\n",
    "scores = []\n",
    "for p in ypred:\n",
    "    if p >= 0.51:\n",
    "        scores.append(1)\n",
    "    else:\n",
    "        scores.append(0)\n",
    "\n",
    "score = np.sum(scores == ytest) / len(scores)\n",
    "print(score)"
   ]
  },
  {
   "cell_type": "markdown",
   "metadata": {},
   "source": [
    "## Output"
   ]
  },
  {
   "cell_type": "code",
   "execution_count": null,
   "metadata": {},
   "outputs": [],
   "source": [
    "clf.fit(X_train_combo, y_train)"
   ]
  },
  {
   "cell_type": "code",
   "execution_count": null,
   "metadata": {},
   "outputs": [],
   "source": [
    "ypred = clf.predict_proba(X_test_combo)[:, 1]\n",
    "scores = []\n",
    "for p in ypred:\n",
    "    if p >= 0.56:\n",
    "        scores.append(1)\n",
    "    else:\n",
    "        scores.append(0)"
   ]
  },
  {
   "cell_type": "code",
   "execution_count": null,
   "metadata": {},
   "outputs": [],
   "source": [
    "output = pd.DataFrame(zip(test_ids, scores), columns=['id', 'target'])\n",
    "output.to_csv('nb_results.csv', index=None, header=True)"
   ]
  },
  {
   "cell_type": "code",
   "execution_count": null,
   "metadata": {},
   "outputs": [],
   "source": []
  }
 ],
 "metadata": {
  "kernelspec": {
   "display_name": "Python 3",
   "language": "python",
   "name": "python3"
  },
  "language_info": {
   "codemirror_mode": {
    "name": "ipython",
    "version": 3
   },
   "file_extension": ".py",
   "mimetype": "text/x-python",
   "name": "python",
   "nbconvert_exporter": "python",
   "pygments_lexer": "ipython3",
   "version": "3.7.4"
  },
  "toc": {
   "base_numbering": 1,
   "nav_menu": {},
   "number_sections": false,
   "sideBar": true,
   "skip_h1_title": true,
   "title_cell": "Contents",
   "title_sidebar": "Contents",
   "toc_cell": false,
   "toc_position": {},
   "toc_section_display": true,
   "toc_window_display": true
  }
 },
 "nbformat": 4,
 "nbformat_minor": 1
}
